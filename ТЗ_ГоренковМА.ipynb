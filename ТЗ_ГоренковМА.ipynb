{
 "cells": [
  {
   "cell_type": "code",
   "execution_count": null,
   "id": "ac3e0502-7021-407f-ba7c-d6c260b2703f",
   "metadata": {},
   "outputs": [],
   "source": [
    "'''\n",
    "Импортируем pandas и открываем DataFrame, с параметром ',' как как символ в float\n",
    "Файл test_data.csv в одном месте с ноутбуком.\n",
    "'''"
   ]
  },
  {
   "cell_type": "code",
   "execution_count": 48,
   "id": "7f28beb5-208a-4a52-885c-2627764fb079",
   "metadata": {},
   "outputs": [],
   "source": [
    "import pandas as pd\n",
    "\n",
    "df = pd.read_csv('test_data.csv',decimal=\",\")"
   ]
  },
  {
   "cell_type": "code",
   "execution_count": null,
   "id": "06b63954-610a-4285-ba37-afffdc14dff4",
   "metadata": {},
   "outputs": [],
   "source": [
    "'''\n",
    "Делим по компаниям\n",
    "'''"
   ]
  },
  {
   "cell_type": "code",
   "execution_count": 49,
   "id": "ff6c2f44-53f1-4ecc-8e40-06cd0976d64e",
   "metadata": {},
   "outputs": [],
   "source": [
    "df_buyer_1 = df[df['Buyer'] == 'buyer_1']\n",
    "df_buyer_2 = df[df['Buyer'] == 'buyer_2']\n",
    "df_buyer_3 = df[df['Buyer'] == 'buyer_3']\n",
    "df_buyer_4 = df[df['Buyer'] == 'buyer_4']\n",
    "df_buyer_5 = df[df['Buyer'] == 'buyer_5']"
   ]
  },
  {
   "cell_type": "code",
   "execution_count": null,
   "id": "dc9dadd3-5e9a-480a-bbb1-7cc241f3f60b",
   "metadata": {},
   "outputs": [],
   "source": [
    "'''\n",
    "Вычмсляем CPI по компаниям, деля сумму количества показов на суммарную стоимость стоимость ('Installs'/'Spend')\n",
    "'''"
   ]
  },
  {
   "cell_type": "code",
   "execution_count": 98,
   "id": "92aca07b-b47a-4298-a795-9c43ac0eb77a",
   "metadata": {},
   "outputs": [],
   "source": [
    "buyer_1_CPI = df_buyer_1['Spend'].sum()/df_buyer_1['Installs'].sum()\n",
    "buyer_2_CPI = df_buyer_2['Spend'].sum()/df_buyer_2['Installs'].sum()\n",
    "buyer_3_CPI = df_buyer_3['Spend'].sum()/df_buyer_3['Installs'].sum()\n",
    "buyer_4_CPI = df_buyer_4['Spend'].sum()/df_buyer_4['Installs'].sum()\n",
    "buyer_5_CPI = df_buyer_5['Spend'].sum()/df_buyer_5['Installs'].sum()"
   ]
  },
  {
   "cell_type": "code",
   "execution_count": 99,
   "id": "1efe90f3-ea7a-4b64-a9a3-38ac29a24358",
   "metadata": {},
   "outputs": [
    {
     "data": {
      "text/plain": [
       "0.11398324508021813"
      ]
     },
     "execution_count": 99,
     "metadata": {},
     "output_type": "execute_result"
    }
   ],
   "source": [
    "buyer_1_CPI"
   ]
  },
  {
   "cell_type": "code",
   "execution_count": 100,
   "id": "a4a4aabe-f05d-475c-bebe-734ad0928f42",
   "metadata": {},
   "outputs": [
    {
     "data": {
      "text/plain": [
       "0.2930741460209296"
      ]
     },
     "execution_count": 100,
     "metadata": {},
     "output_type": "execute_result"
    }
   ],
   "source": [
    "buyer_2_CPI\n"
   ]
  },
  {
   "cell_type": "code",
   "execution_count": 101,
   "id": "c06f2b91-3f0c-4419-855b-7bdac0522a6d",
   "metadata": {},
   "outputs": [
    {
     "data": {
      "text/plain": [
       "0.5140015808997632"
      ]
     },
     "execution_count": 101,
     "metadata": {},
     "output_type": "execute_result"
    }
   ],
   "source": [
    "buyer_3_CPI\n"
   ]
  },
  {
   "cell_type": "code",
   "execution_count": 102,
   "id": "2e450b85-eab6-4182-a364-e0bcff753b31",
   "metadata": {},
   "outputs": [
    {
     "data": {
      "text/plain": [
       "0.42881247876738066"
      ]
     },
     "execution_count": 102,
     "metadata": {},
     "output_type": "execute_result"
    }
   ],
   "source": [
    "buyer_4_CPI\n"
   ]
  },
  {
   "cell_type": "code",
   "execution_count": 103,
   "id": "e4bf9b68-8e8e-4df9-9f17-c82f9d9c82de",
   "metadata": {},
   "outputs": [
    {
     "data": {
      "text/plain": [
       "0.05801266932126697"
      ]
     },
     "execution_count": 103,
     "metadata": {},
     "output_type": "execute_result"
    }
   ],
   "source": [
    "buyer_5_CPI"
   ]
  },
  {
   "cell_type": "code",
   "execution_count": null,
   "id": "43bc71db-2830-4bf6-8b18-cd8d6c8cbb02",
   "metadata": {},
   "outputs": [],
   "source": [
    "'''\n",
    "Наименьший CPI у компании buyer_5\n",
    "'''"
   ]
  },
  {
   "cell_type": "code",
   "execution_count": null,
   "id": "3d479c4b-c459-4d52-ae8e-c9477f57742b",
   "metadata": {},
   "outputs": [],
   "source": [
    "'''\n",
    "Проверим купаемость екомпаний по соотношения прибыли к затратам (Revenue_in_app/Spend)\n",
    "Возьмем выручку за 30 дней\n",
    "'''"
   ]
  },
  {
   "cell_type": "code",
   "execution_count": 66,
   "id": "b6155b24-e4d2-4c28-8b7c-092f4b55b656",
   "metadata": {},
   "outputs": [],
   "source": [
    "buyer_1_Rev = df_buyer_1['Revenue_in_app30d'].sum()/df_buyer_1['Spend'].sum()\n",
    "buyer_2_Rev = df_buyer_2['Revenue_in_app30d'].sum()/df_buyer_2['Spend'].sum()\n",
    "buyer_3_Rev = df_buyer_3['Revenue_in_app30d'].sum()/df_buyer_3['Spend'].sum()\n",
    "buyer_4_Rev = df_buyer_4['Revenue_in_app30d'].sum()/df_buyer_4['Spend'].sum()\n",
    "buyer_5_Rev = df_buyer_5['Revenue_in_app30d'].sum()/df_buyer_5['Spend'].sum()"
   ]
  },
  {
   "cell_type": "code",
   "execution_count": 67,
   "id": "b06b1257-c2ff-42a8-9f8f-dccc41921e2c",
   "metadata": {},
   "outputs": [
    {
     "data": {
      "text/plain": [
       "0.05737365038863427"
      ]
     },
     "execution_count": 67,
     "metadata": {},
     "output_type": "execute_result"
    }
   ],
   "source": [
    "buyer_1_Rev"
   ]
  },
  {
   "cell_type": "code",
   "execution_count": 68,
   "id": "009b083d-e84e-4c8c-9cc6-288cc78bebc6",
   "metadata": {},
   "outputs": [
    {
     "data": {
      "text/plain": [
       "0.04981558286324899"
      ]
     },
     "execution_count": 68,
     "metadata": {},
     "output_type": "execute_result"
    }
   ],
   "source": [
    "buyer_2_Rev"
   ]
  },
  {
   "cell_type": "code",
   "execution_count": 69,
   "id": "cc4a9a3e-ab28-48aa-b0a6-618cb2f3cf97",
   "metadata": {},
   "outputs": [
    {
     "data": {
      "text/plain": [
       "0.05719857527445735"
      ]
     },
     "execution_count": 69,
     "metadata": {},
     "output_type": "execute_result"
    }
   ],
   "source": [
    "buyer_3_Rev"
   ]
  },
  {
   "cell_type": "code",
   "execution_count": 70,
   "id": "c0342906-818f-47d3-a4c5-6c89d950719d",
   "metadata": {},
   "outputs": [
    {
     "data": {
      "text/plain": [
       "0.06654280683984608"
      ]
     },
     "execution_count": 70,
     "metadata": {},
     "output_type": "execute_result"
    }
   ],
   "source": [
    "buyer_4_Rev"
   ]
  },
  {
   "cell_type": "code",
   "execution_count": 71,
   "id": "f1be4e37-7c50-4b33-8b01-370d38e63ef7",
   "metadata": {},
   "outputs": [
    {
     "data": {
      "text/plain": [
       "0.005912267602098263"
      ]
     },
     "execution_count": 71,
     "metadata": {},
     "output_type": "execute_result"
    }
   ],
   "source": [
    "buyer_5_Rev"
   ]
  },
  {
   "cell_type": "code",
   "execution_count": null,
   "id": "cc72c537-e105-423a-8a4d-718f68295428",
   "metadata": {},
   "outputs": [],
   "source": [
    "'''\n",
    "Лучшая компания по соотношению выручки к затратам buyer_4\n",
    "'''"
   ]
  },
  {
   "cell_type": "code",
   "execution_count": null,
   "id": "e5fb331c-3f67-4801-b4a2-d3bff3cb34c9",
   "metadata": {},
   "outputs": [],
   "source": [
    "'''\n",
    "Поверим зависимость продаж от геолокации\n",
    "'''"
   ]
  },
  {
   "cell_type": "code",
   "execution_count": 73,
   "id": "5454a6da-b754-4906-bd66-57f3811c1f61",
   "metadata": {},
   "outputs": [],
   "source": [
    "df_geo_NA = df[df['Geo'] == 'north america']\n",
    "df_geo_LA = df[df['Geo'] == 'latin america']\n",
    "df_geo_WE = df[df['Geo'] == 'western europe']\n",
    "df_geo_CIS = df[df['Geo'] == 'cis']\n",
    "df_geo_AF = df[df['Geo'] == 'north africa']"
   ]
  },
  {
   "cell_type": "code",
   "execution_count": null,
   "id": "735bae26-5bff-4139-8949-03b40ff1fd93",
   "metadata": {},
   "outputs": [],
   "source": [
    "'''\n",
    "Проверим количество строк\n",
    "'''"
   ]
  },
  {
   "cell_type": "code",
   "execution_count": 74,
   "id": "4f8ac180-aa52-465c-91d3-74205e46423f",
   "metadata": {},
   "outputs": [
    {
     "data": {
      "text/plain": [
       "(48, 17)"
      ]
     },
     "execution_count": 74,
     "metadata": {},
     "output_type": "execute_result"
    }
   ],
   "source": [
    "df_geo_NA.shape"
   ]
  },
  {
   "cell_type": "code",
   "execution_count": 75,
   "id": "9a3ead4c-3b69-443a-863c-90334c028216",
   "metadata": {},
   "outputs": [
    {
     "data": {
      "text/plain": [
       "(3, 17)"
      ]
     },
     "execution_count": 75,
     "metadata": {},
     "output_type": "execute_result"
    }
   ],
   "source": [
    "df_geo_LA.shape"
   ]
  },
  {
   "cell_type": "code",
   "execution_count": 76,
   "id": "c75e41ef-b180-43ad-84c4-bb288f319dc7",
   "metadata": {},
   "outputs": [
    {
     "data": {
      "text/plain": [
       "(22, 17)"
      ]
     },
     "execution_count": 76,
     "metadata": {},
     "output_type": "execute_result"
    }
   ],
   "source": [
    "df_geo_WE.shape"
   ]
  },
  {
   "cell_type": "code",
   "execution_count": 77,
   "id": "4c39a336-35c0-4b50-974d-f12c817a4f8c",
   "metadata": {},
   "outputs": [
    {
     "data": {
      "text/plain": [
       "(10, 17)"
      ]
     },
     "execution_count": 77,
     "metadata": {},
     "output_type": "execute_result"
    }
   ],
   "source": [
    "df_geo_CIS.shape"
   ]
  },
  {
   "cell_type": "code",
   "execution_count": 78,
   "id": "b5e56dab-aa0a-490b-ad53-5623281a4b13",
   "metadata": {},
   "outputs": [
    {
     "data": {
      "text/plain": [
       "(2, 17)"
      ]
     },
     "execution_count": 78,
     "metadata": {},
     "output_type": "execute_result"
    }
   ],
   "source": [
    "df_geo_AF.shape"
   ]
  },
  {
   "cell_type": "code",
   "execution_count": null,
   "id": "689a80eb-255d-4070-910e-ac257c551848",
   "metadata": {},
   "outputs": [],
   "source": [
    "'''\n",
    "Проверим общую выручку в зависимости от геолокации\n",
    "'''"
   ]
  },
  {
   "cell_type": "code",
   "execution_count": 81,
   "id": "21ba5132-9a35-4de8-9f01-2e1b55a78cd7",
   "metadata": {},
   "outputs": [
    {
     "data": {
      "text/plain": [
       "842.400003"
      ]
     },
     "execution_count": 81,
     "metadata": {},
     "output_type": "execute_result"
    }
   ],
   "source": [
    "NA_rev = df_geo_NA['Revenue_in_app30d'].sum()\n",
    "NA_rev"
   ]
  },
  {
   "cell_type": "code",
   "execution_count": 82,
   "id": "f0f45057-1d0a-498b-8b59-bd20daccbdc0",
   "metadata": {},
   "outputs": [
    {
     "data": {
      "text/plain": [
       "16.88"
      ]
     },
     "execution_count": 82,
     "metadata": {},
     "output_type": "execute_result"
    }
   ],
   "source": [
    "LA_rev = df_geo_LA['Revenue_in_app30d'].sum()\n",
    "LA_rev"
   ]
  },
  {
   "cell_type": "code",
   "execution_count": 83,
   "id": "d9537c3d-aac0-456c-8dea-34452211caeb",
   "metadata": {},
   "outputs": [
    {
     "data": {
      "text/plain": [
       "50.55000100000001"
      ]
     },
     "execution_count": 83,
     "metadata": {},
     "output_type": "execute_result"
    }
   ],
   "source": [
    "WE_rev = df_geo_WE['Revenue_in_app30d'].sum()\n",
    "WE_rev"
   ]
  },
  {
   "cell_type": "code",
   "execution_count": 84,
   "id": "1f9031a1-8983-44a5-9aec-89518d8b2682",
   "metadata": {},
   "outputs": [
    {
     "data": {
      "text/plain": [
       "55.31"
      ]
     },
     "execution_count": 84,
     "metadata": {},
     "output_type": "execute_result"
    }
   ],
   "source": [
    "CIS_rev = df_geo_CIS['Revenue_in_app30d'].sum()\n",
    "CIS_rev"
   ]
  },
  {
   "cell_type": "code",
   "execution_count": 85,
   "id": "aa89da42-1d63-4d3d-8150-102218d708a6",
   "metadata": {},
   "outputs": [
    {
     "data": {
      "text/plain": [
       "0.0"
      ]
     },
     "execution_count": 85,
     "metadata": {},
     "output_type": "execute_result"
    }
   ],
   "source": [
    "AF_rev = df_geo_AF['Revenue_in_app30d'].sum()\n",
    "AF_rev"
   ]
  },
  {
   "cell_type": "code",
   "execution_count": null,
   "id": "542781c0-6ef7-4249-ab86-4bc3cdb8a916",
   "metadata": {},
   "outputs": [],
   "source": [
    "'''\n",
    "Выручка в Северной Африке минимальная - 0.0\n",
    "Следующая - Латинская Америка. Выручка - 16.88\n",
    "'''"
   ]
  },
  {
   "cell_type": "code",
   "execution_count": null,
   "id": "9c2b31ff-38b9-4d07-a8e0-c679101519f1",
   "metadata": {},
   "outputs": [],
   "source": [
    "'''\n",
    "Определим количество кликов к выручке по геолокации\n",
    "CPC по Северной Африке исключаем, т.к. сумма выручко будкт 0\n",
    "'''"
   ]
  },
  {
   "cell_type": "code",
   "execution_count": 88,
   "id": "3ceb1393-3e34-49fc-b9ff-68d680da2ce1",
   "metadata": {},
   "outputs": [],
   "source": [
    "NA_СPC = df_geo_NA['Clicks'].sum()/df_geo_NA['Revenue_in_app30d'].sum()\n",
    "LA_СPC = df_geo_LA['Clicks'].sum()/df_geo_LA['Revenue_in_app30d'].sum()\n",
    "WE_СPC = df_geo_WE['Clicks'].sum()/df_geo_WE['Revenue_in_app30d'].sum()\n",
    "CIS_СPC = df_geo_CIS['Clicks'].sum()/df_geo_CIS['Revenue_in_app30d'].sum()"
   ]
  },
  {
   "cell_type": "code",
   "execution_count": 89,
   "id": "645f2431-0bc5-4653-a954-9beca0195195",
   "metadata": {},
   "outputs": [
    {
     "data": {
      "text/plain": [
       "285.82146147024645"
      ]
     },
     "execution_count": 89,
     "metadata": {},
     "output_type": "execute_result"
    }
   ],
   "source": [
    "NA_СPC"
   ]
  },
  {
   "cell_type": "code",
   "execution_count": 90,
   "id": "d4e22f16-3bcb-49ff-888c-701d478286f8",
   "metadata": {},
   "outputs": [
    {
     "data": {
      "text/plain": [
       "1050.2369668246447"
      ]
     },
     "execution_count": 90,
     "metadata": {},
     "output_type": "execute_result"
    }
   ],
   "source": [
    "LA_СPC"
   ]
  },
  {
   "cell_type": "code",
   "execution_count": 91,
   "id": "da4de405-4867-403e-925a-ea1d41c7ae97",
   "metadata": {},
   "outputs": [
    {
     "data": {
      "text/plain": [
       "350.72205043081993"
      ]
     },
     "execution_count": 91,
     "metadata": {},
     "output_type": "execute_result"
    }
   ],
   "source": [
    "WE_СPC"
   ]
  },
  {
   "cell_type": "code",
   "execution_count": 92,
   "id": "cb0fcdc7-ff68-4dea-aaaf-522259385c44",
   "metadata": {},
   "outputs": [
    {
     "data": {
      "text/plain": [
       "358.81395769300303"
      ]
     },
     "execution_count": 92,
     "metadata": {},
     "output_type": "execute_result"
    }
   ],
   "source": [
    "CIS_СPC"
   ]
  },
  {
   "cell_type": "code",
   "execution_count": null,
   "id": "4c9a206a-0824-41f1-8631-32bbca26b19a",
   "metadata": {},
   "outputs": [],
   "source": [
    "'''\n",
    "Самый низкий CPC в Северной Америке\n",
    "'''"
   ]
  },
  {
   "cell_type": "code",
   "execution_count": null,
   "id": "680fc9a9-08ba-46a2-9f7f-b97b439b99eb",
   "metadata": {},
   "outputs": [],
   "source": [
    "'''\n",
    "Посмотрим доход с каждого клика по рекламе. RPC по геолокации\n",
    "'''"
   ]
  },
  {
   "cell_type": "code",
   "execution_count": 93,
   "id": "916eb143-5c1f-4469-abfc-88760d67f065",
   "metadata": {},
   "outputs": [],
   "source": [
    "NA_RPC = df_geo_NA['Revenue_in_app30d'].sum()/df_geo_NA['Clicks'].sum()\n",
    "LA_RPC = df_geo_LA['Revenue_in_app30d'].sum()/df_geo_LA['Clicks'].sum()\n",
    "WE_RPC = df_geo_WE['Revenue_in_app30d'].sum()/df_geo_WE['Clicks'].sum()\n",
    "CIS_RPC = df_geo_LA['Revenue_in_app30d'].sum()/df_geo_CIS['Clicks'].sum()"
   ]
  },
  {
   "cell_type": "code",
   "execution_count": 94,
   "id": "19ee58f2-ea1e-40d2-8884-972df31e4813",
   "metadata": {},
   "outputs": [
    {
     "data": {
      "text/plain": [
       "0.003498687589294614"
      ]
     },
     "execution_count": 94,
     "metadata": {},
     "output_type": "execute_result"
    }
   ],
   "source": [
    "NA_RPC"
   ]
  },
  {
   "cell_type": "code",
   "execution_count": 95,
   "id": "d2ae1df8-48eb-4a2b-84ce-bb16ab84bb6a",
   "metadata": {},
   "outputs": [
    {
     "data": {
      "text/plain": [
       "0.0009521660649819494"
      ]
     },
     "execution_count": 95,
     "metadata": {},
     "output_type": "execute_result"
    }
   ],
   "source": [
    "LA_RPC"
   ]
  },
  {
   "cell_type": "code",
   "execution_count": 96,
   "id": "89287245-fa7c-4611-85c5-5fc723d2ad00",
   "metadata": {},
   "outputs": [
    {
     "data": {
      "text/plain": [
       "0.0028512607028033173"
      ]
     },
     "execution_count": 96,
     "metadata": {},
     "output_type": "execute_result"
    }
   ],
   "source": [
    "WE_RPC"
   ]
  },
  {
   "cell_type": "code",
   "execution_count": 97,
   "id": "6a914174-89f1-4e39-875f-193eec9c8ebf",
   "metadata": {},
   "outputs": [
    {
     "data": {
      "text/plain": [
       "0.0008505492290637912"
      ]
     },
     "execution_count": 97,
     "metadata": {},
     "output_type": "execute_result"
    }
   ],
   "source": [
    "CIS_RPC"
   ]
  },
  {
   "cell_type": "code",
   "execution_count": null,
   "id": "1ddc68d5-41c6-4906-96a4-f13996554739",
   "metadata": {},
   "outputs": [],
   "source": [
    "'''\n",
    "Северную Африку не учитывал, т.к. будет 0. Результат предсказуем, т.к. метрика обратна к предыдущей, т.е. коррелируется с ней.\n",
    "Наибольший результат у Северной Америке\n",
    "'''"
   ]
  },
  {
   "cell_type": "code",
   "execution_count": null,
   "id": "1a6dd2b2-257e-4347-9328-7bdf732f0006",
   "metadata": {},
   "outputs": [],
   "source": [
    "'''\n",
    "Посмотрим выручку на количество покупателей за 30 дней по компаниям, без учета геолокации\n",
    "'''"
   ]
  },
  {
   "cell_type": "code",
   "execution_count": 106,
   "id": "55291270-7b9d-492c-8981-a60dac71d718",
   "metadata": {},
   "outputs": [],
   "source": [
    "buyer_1_RP = df_buyer_1['Revenue_in_app30d'].sum()/df_buyer_1['Payers30d'].sum()\n",
    "buyer_2_RP = df_buyer_2['Revenue_in_app30d'].sum()/df_buyer_2['Payers30d'].sum()\n",
    "buyer_3_RP = df_buyer_3['Revenue_in_app30d'].sum()/df_buyer_3['Payers30d'].sum()\n",
    "buyer_4_RP = df_buyer_4['Revenue_in_app30d'].sum()/df_buyer_4['Payers30d'].sum()\n",
    "buyer_5_RP = df_buyer_5['Revenue_in_app30d'].sum()/df_buyer_5['Payers30d'].sum()"
   ]
  },
  {
   "cell_type": "code",
   "execution_count": 107,
   "id": "947e044b-c572-48a9-8cf1-93859d93ceda",
   "metadata": {},
   "outputs": [
    {
     "data": {
      "text/plain": [
       "3.3365322500000003"
      ]
     },
     "execution_count": 107,
     "metadata": {},
     "output_type": "execute_result"
    }
   ],
   "source": [
    "buyer_1_RP"
   ]
  },
  {
   "cell_type": "code",
   "execution_count": 108,
   "id": "99738a0e-1d2b-4c3a-acfe-2a18e6e207b5",
   "metadata": {},
   "outputs": [
    {
     "data": {
      "text/plain": [
       "4.556202569620254"
      ]
     },
     "execution_count": 108,
     "metadata": {},
     "output_type": "execute_result"
    }
   ],
   "source": [
    "buyer_2_RP"
   ]
  },
  {
   "cell_type": "code",
   "execution_count": 109,
   "id": "686c478d-c3ae-40d0-a618-8d928ddfd10b",
   "metadata": {},
   "outputs": [
    {
     "data": {
      "text/plain": [
       "4.298076961538461"
      ]
     },
     "execution_count": 109,
     "metadata": {},
     "output_type": "execute_result"
    }
   ],
   "source": [
    "buyer_3_RP"
   ]
  },
  {
   "cell_type": "code",
   "execution_count": 110,
   "id": "250434eb-a802-4592-9398-d532bcb22127",
   "metadata": {},
   "outputs": [
    {
     "data": {
      "text/plain": [
       "5.4235715"
      ]
     },
     "execution_count": 110,
     "metadata": {},
     "output_type": "execute_result"
    }
   ],
   "source": [
    "buyer_4_RP"
   ]
  },
  {
   "cell_type": "code",
   "execution_count": 111,
   "id": "9ce79412-9661-44d0-8c9d-47dced771456",
   "metadata": {},
   "outputs": [
    {
     "data": {
      "text/plain": [
       "1.895"
      ]
     },
     "execution_count": 111,
     "metadata": {},
     "output_type": "execute_result"
    }
   ],
   "source": [
    "buyer_5_RP"
   ]
  },
  {
   "cell_type": "code",
   "execution_count": null,
   "id": "b16afa00-2fb4-475f-913b-45809c888741",
   "metadata": {},
   "outputs": [],
   "source": [
    "'''\n",
    "Наибольший показател у bayer_4, наименьший у bayer_5\n",
    "'''"
   ]
  },
  {
   "cell_type": "code",
   "execution_count": null,
   "id": "a3804137-df95-4701-a474-bd4a5fbb3249",
   "metadata": {},
   "outputs": [],
   "source": []
  }
 ],
 "metadata": {
  "kernelspec": {
   "display_name": "Python 3 (ipykernel)",
   "language": "python",
   "name": "python3"
  },
  "language_info": {
   "codemirror_mode": {
    "name": "ipython",
    "version": 3
   },
   "file_extension": ".py",
   "mimetype": "text/x-python",
   "name": "python",
   "nbconvert_exporter": "python",
   "pygments_lexer": "ipython3",
   "version": "3.9.13"
  }
 },
 "nbformat": 4,
 "nbformat_minor": 5
}
